{
 "cells": [
  {
   "cell_type": "code",
   "execution_count": 1,
   "metadata": {},
   "outputs": [],
   "source": [
    "import torch\n",
    "\n",
    "checkpoint = torch.load(\"checkpoint/checkpoint.pth\")\n",
    "state_dict = checkpoint['model_state_dict']\n",
    "\n",
    "# 'module.' 접두어 제거\n",
    "new_state_dict = {}\n",
    "for k, v in state_dict.items():\n",
    "    if k.startswith('module.'):\n",
    "        new_state_dict[k[7:]] = v  # 'module.' 제거 (7자)\n",
    "    else:\n",
    "        new_state_dict[k] = v\n",
    "        \n",
    "# 새로운 state_dict 저장\n",
    "torch.save(new_state_dict, \"checkpoint/new_checkpoint.pth\")"
   ]
  },
  {
   "cell_type": "code",
   "execution_count": null,
   "metadata": {},
   "outputs": [],
   "source": []
  }
 ],
 "metadata": {
  "kernelspec": {
   "display_name": "Python 3",
   "language": "python",
   "name": "python3"
  },
  "language_info": {
   "codemirror_mode": {
    "name": "ipython",
    "version": 3
   },
   "file_extension": ".py",
   "mimetype": "text/x-python",
   "name": "python",
   "nbconvert_exporter": "python",
   "pygments_lexer": "ipython3",
   "version": "3.8.10"
  }
 },
 "nbformat": 4,
 "nbformat_minor": 2
}
